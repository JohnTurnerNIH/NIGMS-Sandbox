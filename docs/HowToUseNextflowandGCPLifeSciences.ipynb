{
 "cells": [
  {
   "cell_type": "markdown",
   "id": "0f8f4b85-9459-497d-97ec-5909e8aeacae",
   "metadata": {},
   "source": [
    "# 1. Submit a Job directly to Life Science API"
   ]
  },
  {
   "cell_type": "markdown",
   "id": "f2e4a5ca-8a2b-4156-b83e-c89f0c1ffc9c",
   "metadata": {},
   "source": [
    "### 1.1 Specify the output directory [--logging], region, location, and the command\n",
    "\n",
    "Remember to point to a directory in your specified bucket"
   ]
  },
  {
   "cell_type": "code",
   "execution_count": null,
   "id": "3cb5bd4b-032a-47f0-bee4-299a547c3b48",
   "metadata": {},
   "outputs": [],
   "source": [
    "!gcloud beta lifesciences pipelines run \\\n",
    "    --location us-central1 \\\n",
    "    --regions us-east1 \\\n",
    "    --logging gs://nextflowdemobucket/zy-test/example.log \\\n",
    "    --command-line 'echo \"hello world!\"'"
   ]
  },
  {
   "cell_type": "markdown",
   "id": "f4892a16-f4d9-4db9-a171-6e9245df2a72",
   "metadata": {},
   "source": [
    "### 1.2 Check job status"
   ]
  },
  {
   "cell_type": "code",
   "execution_count": null,
   "id": "9cba7c4e-4b8c-4e4c-80e4-8de1f11b5790",
   "metadata": {},
   "outputs": [],
   "source": [
    "#To check the job status enter operation ID from the gcloud output in command below : \n",
    "#Running [projects/PROJECT_ID/locations/LOCATION/operations/OPERATION_ID]\n",
    "!gcloud beta lifesciences operations describe 17977600789736315778"
   ]
  },
  {
   "cell_type": "markdown",
   "id": "9f056585-6c10-41b6-b7b6-0c75bebed811",
   "metadata": {},
   "source": [
    "### 1.3 View your output"
   ]
  },
  {
   "cell_type": "code",
   "execution_count": null,
   "id": "02faf944-0143-49c7-bf4c-6b8e377fcd81",
   "metadata": {},
   "outputs": [],
   "source": [
    "!gsutil cp gs://nextflowdemobucket/zy-test/example.log .\n",
    "!cat example.log"
   ]
  },
  {
   "cell_type": "markdown",
   "id": "0443fd1a-6052-47e2-95df-b269deb659c1",
   "metadata": {},
   "source": [
    "# 2. Submit a Job to Life Science API through Nextflow"
   ]
  },
  {
   "cell_type": "markdown",
   "id": "783043ae-1598-4157-a3a9-58064197665d",
   "metadata": {},
   "source": [
    "### 2.1 Create a Nexflow Service Account"
   ]
  },
  {
   "cell_type": "markdown",
   "id": "47b95617-b2e9-45c6-b566-227c16eb0740",
   "metadata": {},
   "source": [
    "- Enable the Cloud Life Sciences, Compute Engine, and Cloud Storage APIs by searching each of the GCP products and clicking <img src=\"/images/service_account_5.jpg\" width=\"50\" height=\"50\">\n",
    "- Click the navigation menu <img src=\"/images/service_account_6.jpg\" width=\"20\" height=\"20\">, go to IAM then click Service Accounts\n",
    "\n",
    "<img src=\"/images/service_account_1.jpeg\" width=\"250\" height=\"50\">\n",
    "\n",
    "- Select  <img src=\"/images/service_account_2.jpeg\" width=\"150\" height=\"30\">\n",
    "\n",
    "- Type in 'nextflow-service-account' as the service account name and press 'Done'\n",
    "- On the AMI & Admin menu click 'IAM' then click <img src=\"/images/service_account_3.jpeg\" width=\"20\" height=\"20\"> next to the nextflow service account\n",
    "\n",
    "- Add the following roles and click 'Save':\n",
    "<img src=\"/images/service_account_4.jpg\" width=\"400\" height=\"400\"> \n",
    "\n",
    "__Roles:__\n",
    "\n",
    "    - lifesciences.workflowsRunner\n",
    "    - iam.serviceAccountUser\n",
    "    - serviceusage.serviceUsageConsumer\n",
    "    - storage.objectAdmin"
   ]
  },
  {
   "cell_type": "markdown",
   "id": "a3958973-d1ee-41a3-99b7-f592fbe494bd",
   "metadata": {},
   "source": [
    "### 2.2 Add Service Account to Notebook Permissions"
   ]
  },
  {
   "cell_type": "markdown",
   "id": "0dcd8984-239e-4972-9e88-96a2a8b86916",
   "metadata": {},
   "source": [
    "When creating a notebook you can edit the permissions to utilze the nextflow service account.\n",
    "- Using the 'IAM & Admin' menu on the left click 'Service Accounts' (if you aren't there already) locate your nextflow service account and copy the entire email name\n",
    "- Start to create your notebook and edit the Permissions section by unclicking 'Use Compute Engine default service account' and enter your service account email.\n",
    "\n",
    "<img src=\"/images/service_account_7.jpg\" width=\"400\" height=\"400\">\n",
    "- then click 'Create'\n",
    "\n",
    "\n",
    "<div class=\"alert alert-block alert-danger\">\n",
    "    <i class=\"fa fa-exclamation-circle\" aria-hidden=\"true\"></i>\n",
    "    <b>WARNING: </b>  Please <b>do not create a service key</b> if instructed by any tutorial. API keys are generally not considered secure. They are typically accessible to all users making it easy for someone to steal an API key. Once the key is stolen it has no expiration, so it may be used indefinitely unless the project owner revokes or regenerates the key. \n",
    "</div>"
   ]
  },
  {
   "cell_type": "markdown",
   "id": "33a142e0-bd9a-405d-91f9-827503ff5fb1",
   "metadata": {},
   "source": [
    "### 2.3 Nextflow 101"
   ]
  },
  {
   "cell_type": "markdown",
   "id": "b709c718-96d0-4925-99dd-525a7e7b6c76",
   "metadata": {},
   "source": [
    "Nextflow interacts with many different files to have a proper working workflow:\n",
    "\n",
    "- __Main file__: The main file is a .nf file that holds the processes and channels describing the input, output, a shell script of your commands, workflow which acts like a recipe book for nextflow, and/or conditions. For snakemake users this is equivalent to 'rules'.\n",
    "    - __Process__: Contains channels and scripts that can be executed in a Linux server like bash commands.\n",
    "    - __Channel__: Produces ways through which processes communicate to each other for example input and output are channels of value that point the process to where data is or should be located.\n",
    "- __Config file__: The .config file contains parameters, and multiple profiles. Each profile can contain a different executor type (e.g. LS API, conda, docker, etc.), memory or machine type, output directory, working directory and more!\n",
    "- __Docker file__: Contains dependencies and enviroments that is needed for the nextflow workflow to run.\n",
    "- __Schema file__: Schmema files are optional and are structured json files that contain information about the usage and commands that your workflow will excecute.You might have seen this when you run a command along with the flag '--help'.\n",
    "    "
   ]
  },
  {
   "cell_type": "markdown",
   "id": "292bbf27-57db-4503-8a5f-acf540fedb4f",
   "metadata": {},
   "source": [
    "### 2.4 Install Nextflow"
   ]
  },
  {
   "cell_type": "code",
   "execution_count": null,
   "id": "06043e64-ba89-43f0-8397-7f2fa0cd6789",
   "metadata": {},
   "outputs": [],
   "source": [
    "#First install java\n",
    "!sudo apt update\n",
    "!sudo apt-get install default-jdk -y\n",
    "!java -version"
   ]
  },
  {
   "cell_type": "code",
   "execution_count": null,
   "id": "12458efd-38d1-4710-a4be-11d266b6a1d2",
   "metadata": {},
   "outputs": [],
   "source": [
    "#Specify platfrom\n",
    "!export NXF_MODE=google\n",
    "#Install nexflow, make it exceutable, and update it\n",
    "!curl https://get.nextflow.io | bash\n",
    "!chmod +x nextflow\n",
    "!./nextflow self-update"
   ]
  },
  {
   "cell_type": "markdown",
   "id": "9bea3004-ff40-4918-ac16-83aad9427ad7",
   "metadata": {},
   "source": [
    "### 2.5 Scripting and running a nextflow 'Hello World' process"
   ]
  },
  {
   "cell_type": "markdown",
   "id": "4715ef92-e3a6-44cf-9b1e-50f247dd0daf",
   "metadata": {},
   "source": [
    "- Create a .nf file in the terminal\n",
    "- Be sure to include _#!/usr/bin/env nextflow_ and _nextflow.enable.dsl=2_ at the top of your script\n",
    "- Add a process that is named sayHello\n",
    "- you can add input, output, and script\n",
    "    - For our example we have a input that catches the string, a script asking the workflow to write our string  'Hello World' to a file then print the content of that file, and a output that creates the file in the current directory.\n",
    "- At the end write the order of your workflow\n",
    "    - For our example we are running the sayHello process and 'view' where we ask nextflow to show our workflow process\n",
    "\n",
    "It should look something like this:\n",
    "\n",
    "```\n",
    "#!/usr/bin/env nextflow\n",
    "nextflow.enable.dsl=2 \n",
    "\n",
    "params.str = 'Hello World'\n",
    "\n",
    "process sayHello {\n",
    "  input:\n",
    "  val str\n",
    "\n",
    "  output:\n",
    "  stdout\n",
    "\n",
    "  \"\"\"\n",
    "  echo $str > hello.txt\n",
    "  cat hello.txt\n",
    "  \"\"\"\n",
    "}\n",
    "workflow {\n",
    "  sayHello(params.str) | view\n",
    "}\n",
    "```"
   ]
  },
  {
   "cell_type": "code",
   "execution_count": null,
   "id": "6efad386-185b-4faf-be39-6c5a3f84ffe4",
   "metadata": {},
   "outputs": [],
   "source": [
    "!./nextflow run hello.nf --str 'Hello!'"
   ]
  },
  {
   "cell_type": "code",
   "execution_count": null,
   "id": "89a13f0c-4b12-4dd3-92ad-795d301f9805",
   "metadata": {},
   "outputs": [],
   "source": [
    "!cat /home/jupyter/work/34/35a36d596ad458c0d2dc2e2a8193f9/hello.txt"
   ]
  },
  {
   "cell_type": "markdown",
   "id": "7619875d-7f10-4699-b4d2-120d5d7d4cd7",
   "metadata": {},
   "source": [
    "### 2.6 Create and modify your own config file to include a 'gls' profile block"
   ]
  },
  {
   "cell_type": "markdown",
   "id": "ec7abe9b-dca1-4ef6-87d6-39fcdd2e3c9b",
   "metadata": {},
   "source": [
    "The config file allows nextflow to utilize executors like Life Science API. In this tutorial the config files is named __'test_hw2.config'__.\n",
    "- Make sure that your region is a region included in the LS API!\n",
    "- Make sure you create the bucket ahead of time using the `mb` command (e.g., `gsutil mb gs://Your_Bucket_Name`)\n",
    "    - Specify your working directory bucket and output directory make sure they are separate\n",
    "- Specify the machine type you would like to use, ensuring that there is enough memory and cpus for the workflow\n",
    "    - Otherwise LS API will automatically use 1 CPU\n",
    "\n",
    "```\n",
    "profiles{\n",
    "  gls{\n",
    "      process.executor = 'google-lifesciences'\n",
    "      workDir = 'gs://Your_Bucket_Name/methyl-output'\n",
    "      google.location = 'us-central1'\n",
    "      google.region  = 'us-central1'\n",
    "      google.project = 'Your_Project_ID'\n",
    "      params.outdir = 'gs://Your_Bucket_Name/methyl-tmp'\n",
    "      process.machineType = 'c2-standard-30'\n",
    "     }\n",
    "}\n",
    "```\n",
    "\n",
    "<div class=\"alert alert-block alert-info\">\n",
    "    <i class=\"fa fa-lightbulb-o\" aria-hidden=\"true\"></i>\n",
    "    <b>Tip: </b> Make sure your working directory and output directory are different! Life Sciences creates temporary file in the working directory within your bucket that do take up space so once your pipeline has completed successfully feel free to delete the temporary files.\n",
    "</div>"
   ]
  },
  {
   "cell_type": "markdown",
   "id": "f8220b26-d9cd-45b8-8faf-06bcc09ca1c5",
   "metadata": {},
   "source": [
    "If you run into memory issues try increasing your bootdisk size by adding the following parameter into your GLS profile:\n",
    "\n",
    "`google.lifeSciences.bootDiskSize=100.GB`"
   ]
  },
  {
   "cell_type": "markdown",
   "id": "340f7300-449a-4a12-bbc5-073547d58cac",
   "metadata": {},
   "source": [
    "### Optional: Listing nf-core tools with docker and viewing their commands\n",
    "Using the command below you can see all the tools that nfcore holds and their versions/lastes releases"
   ]
  },
  {
   "cell_type": "code",
   "execution_count": null,
   "id": "ca1ff164-cee2-446e-ab2e-a3ed984e0dc0",
   "metadata": {},
   "outputs": [],
   "source": [
    "!docker run nfcore/tools list"
   ]
  },
  {
   "cell_type": "markdown",
   "id": "9e46373c-61d0-4c91-b001-e55568d9fa2d",
   "metadata": {},
   "source": [
    "You can view commands for methylseq (or any other specified nf-core tool) by using the [--help] flag"
   ]
  },
  {
   "cell_type": "code",
   "execution_count": null,
   "id": "05ea2893-60b3-4934-ae86-b07d4bc59728",
   "metadata": {},
   "outputs": [],
   "source": [
    "!./nextflow run nf-core/methylseq -r 1.6.1 --help"
   ]
  },
  {
   "cell_type": "markdown",
   "id": "b4dbef59-d619-4444-8870-18c1f0ba3b5c",
   "metadata": {},
   "source": [
    "### 2.7 Test Methylseq"
   ]
  },
  {
   "cell_type": "markdown",
   "id": "7238bd3e-1853-42c3-9d2d-c72e46975ff2",
   "metadata": {},
   "source": [
    "The 'test' profile uses a small dataset allowing you to ensure the workflow works with your config file without long runtimes. Ensure you include:\n",
    "- Version of the nf-core tool [-r]\n",
    "- Location of the config file [-c]"
   ]
  },
  {
   "cell_type": "code",
   "execution_count": null,
   "id": "4b21f170-37fa-4fbc-ab83-3f6b4d386ef9",
   "metadata": {},
   "outputs": [],
   "source": [
    "!./nextflow run nf-core/methylseq -r 1.6.1 -profile test,gls -c nextflow.config"
   ]
  },
  {
   "cell_type": "markdown",
   "id": "e386ccb3-aa6d-4a77-8d7d-c20ed0419f84",
   "metadata": {},
   "source": [
    "You will notice in the above that to the left of the process within the __[ ]__ is actually a __tag__ you can search in Life Sciences and the text before the __/__ corresponds to the __temporary directories__ within your working directory. Feel free to delete the temporary directories once your workflow has succesfully completed."
   ]
  },
  {
   "cell_type": "markdown",
   "id": "8e4af8bc-7144-4039-bb8c-83d62f6f40cb",
   "metadata": {},
   "source": [
    "### 2.8 Run Methylseq with a real world data"
   ]
  },
  {
   "cell_type": "markdown",
   "id": "2e5eef90-ca83-43f2-9eaa-df9c29ddfbf8",
   "metadata": {},
   "source": [
    "#### a. Importing Fastq files with mambaforge"
   ]
  },
  {
   "cell_type": "markdown",
   "id": "df2b772a-fe10-4422-a21d-338908b0ee9d",
   "metadata": {},
   "source": [
    "Installing mambaforge"
   ]
  },
  {
   "cell_type": "code",
   "execution_count": null,
   "id": "0ba49168-f63c-4ca4-8882-f043302d40a4",
   "metadata": {},
   "outputs": [],
   "source": [
    "!curl -L -O https://github.com/conda-forge/miniforge/releases/latest/download/Mambaforge-$(uname)-$(uname -m).sh\n",
    "!bash Mambaforge-$(uname)-$(uname -m).sh -b -p $HOME/mambaforge"
   ]
  },
  {
   "cell_type": "markdown",
   "id": "60773874-d5c9-425e-a632-d079faaa6c7a",
   "metadata": {},
   "source": [
    "Installing SRA-tools"
   ]
  },
  {
   "cell_type": "code",
   "execution_count": null,
   "id": "7c4527e0-7c43-4b80-a9d0-3d9cecd35b03",
   "metadata": {},
   "outputs": [],
   "source": [
    "!mambaforge/bin/mamba install -c bioconda sra-tools -y"
   ]
  },
  {
   "cell_type": "markdown",
   "id": "4d5adcf3-d2ce-4151-9bca-24b255c01a19",
   "metadata": {},
   "source": [
    "Downloading the SRA single-celled fastq file"
   ]
  },
  {
   "cell_type": "code",
   "execution_count": null,
   "id": "13d67c37-9426-45b9-9818-faaba4226bde",
   "metadata": {},
   "outputs": [],
   "source": [
    "!fasterq-dump --threads 4 --progress SRR067701"
   ]
  },
  {
   "cell_type": "markdown",
   "id": "561abd2a-f88e-4265-a275-bf0604b4cb47",
   "metadata": {},
   "source": [
    "#### b. Run Methylseq with your own profile and data. Ensure you include:\n",
    "- nf-core tool version [-r]\n",
    "- Add fastq.gz file input [--input]\n",
    "- Reference Genome [--genome] (no need to have it on hand nf-core uses iGenomes and will pull in the correct reference file)\n",
    "- Confile file location [-c]\n",
    "- Wanted profile [-profile]\n",
    "- Other flags such as:\n",
    "    - If the fastq file is single-ended or not\n",
    "    - The max cpus and memory wanted\n"
   ]
  },
  {
   "cell_type": "code",
   "execution_count": null,
   "id": "85da7655-f2f6-42c1-b189-7941afbecf23",
   "metadata": {},
   "outputs": [],
   "source": [
    "!./nextflow run nf-core/methylseq -r 1.6.1 \\\n",
    "    --input 'SRR067701.fastq.gz' \\ \n",
    "    --genome GRCh37 \\\n",
    "    --single_end \\\n",
    "    -c nextflow.config \\\n",
    "    -profile gls \\\n",
    "    --max_cpus 32 \\\n",
    "    --max_memory '110.GB'\n"
   ]
  },
  {
   "cell_type": "markdown",
   "id": "a8fbe5a4-8ab0-4766-a954-f8b4dcc0f6b6",
   "metadata": {},
   "source": [
    "#### c. Check to see if files are in your output directory bucket"
   ]
  },
  {
   "cell_type": "code",
   "execution_count": null,
   "id": "4a12997e-a890-464d-9145-412154bda4a7",
   "metadata": {},
   "outputs": [],
   "source": [
    "!gsutil ls gs://nextflowdemobucket/zy-test/methyl-seq/methylseq-1"
   ]
  },
  {
   "cell_type": "markdown",
   "id": "4e109902-b2aa-49f6-92de-1c7c0773b671",
   "metadata": {},
   "source": [
    "__Optional__: View your MultiQC HTML file"
   ]
  },
  {
   "cell_type": "code",
   "execution_count": null,
   "id": "9ba6f2bb-a4a4-4cd2-8c30-1912851ebd5c",
   "metadata": {},
   "outputs": [],
   "source": [
    "!gsutil cp -r gs://nextflowdemobucket/zy-test/methyl-seq/methylseq-1/MultiQC/multiqc_report.html ."
   ]
  },
  {
   "cell_type": "code",
   "execution_count": null,
   "id": "dccc7b1f-a5ac-4cec-a2c3-f7fe42fe8f73",
   "metadata": {},
   "outputs": [],
   "source": [
    "from IPython.display import IFrame\n",
    "\n",
    "IFrame(src='multiqc_report.html', width=900, height=600)"
   ]
  },
  {
   "cell_type": "markdown",
   "id": "0b1f9aa7-4b9e-4ac2-a228-260614d9aa7f",
   "metadata": {},
   "source": [
    "---"
   ]
  },
  {
   "cell_type": "markdown",
   "id": "cc147f81-9b38-4e96-86a0-855a9b3d7be5",
   "metadata": {},
   "source": [
    "#### To run Nextflow or any bash command in a R kernel use system(\"your bash command\", intern = TRUE)"
   ]
  },
  {
   "cell_type": "code",
   "execution_count": null,
   "id": "05477ea5-781a-47b5-9de4-e9b30f766f3d",
   "metadata": {},
   "outputs": [],
   "source": [
    "#example \n",
    "system('./nextflow run nf-core/methylseq -r 1.6.1 -profile test,gls -c nextflow.config', intern = TRUE)"
   ]
  },
  {
   "cell_type": "code",
   "execution_count": null,
   "id": "f3d2b9f3-a99e-4206-b5e8-0567b84e8fb7",
   "metadata": {},
   "outputs": [],
   "source": [
    "#view MultiQC html file in R\n",
    "IRdisplay::display_html('<iframe src=\"multiqc_report.html\" width=1000, height=1000></iframe> ') "
   ]
  }
 ],
 "metadata": {},
 "nbformat": 4,
 "nbformat_minor": 5
}
