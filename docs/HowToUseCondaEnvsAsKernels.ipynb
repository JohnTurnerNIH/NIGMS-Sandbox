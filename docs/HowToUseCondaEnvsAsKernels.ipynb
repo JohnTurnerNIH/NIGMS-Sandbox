{
 "cells": [
  {
   "cell_type": "markdown",
   "id": "7a678cb0-f75f-4e32-8bf5-7611faba0b91",
   "metadata": {},
   "source": [
    "# How to use and switch between Conda Environments as Kernels in Vertex AI's Jupyter Lab"
   ]
  },
  {
   "cell_type": "markdown",
   "id": "ea0fd5eb-01ca-48a6-89a6-d4ff3013e53b",
   "metadata": {},
   "source": [
    "There are two major steps in using a conda virtual environment as a kernel in JupyterLabs. You first need to create your conda environment with your specified software packages. Then, you can register that as a kernel. Depending on your settings this might happen automatically. The below insructions walk through the necessary steps."
   ]
  },
  {
   "cell_type": "markdown",
   "id": "5bd18b94-965d-4cd0-88bc-65fdcb1866e5",
   "metadata": {},
   "source": [
    "### Setting up Jupyter lab to create conda environment kernels"
   ]
  },
  {
   "cell_type": "markdown",
   "id": "f413e677-2c53-4aa3-8d6c-8c5376496a0e",
   "metadata": {},
   "source": [
    "List your conda environments. If you havent created a conda environment yet the only conda environment that should be listed is __base__."
   ]
  },
  {
   "cell_type": "code",
   "execution_count": null,
   "id": "58b3e45e-3710-46cf-89fd-a67f77578d46",
   "metadata": {},
   "outputs": [],
   "source": [
    "conda env list"
   ]
  },
  {
   "cell_type": "markdown",
   "id": "aa5df3d5-343e-42ba-a277-a8149d47fcce",
   "metadata": {},
   "source": [
    "You can run the command below to list the jupyter kernels which later we will use to also confirm that the conda environments are connected to jupyter kernels."
   ]
  },
  {
   "cell_type": "code",
   "execution_count": null,
   "id": "8b664567-ca2c-4853-8cbc-6ad30cb88cdc",
   "metadata": {},
   "outputs": [],
   "source": [
    "!jupyter kernelspec list"
   ]
  },
  {
   "cell_type": "markdown",
   "id": "60fc8511-ba88-4301-9540-37fbb6bf817b",
   "metadata": {},
   "source": [
    "Similar to the jupyter kernelspec command the nb_conda_kernels command is used to list conda environments and any shared jupyter kernels (e.g. python3), as you can see the 'conda-root-py' conda kernel which is your __base__ conda environment.   "
   ]
  },
  {
   "cell_type": "code",
   "execution_count": null,
   "id": "70937661-db33-4ac0-badb-4e51bcb31180",
   "metadata": {},
   "outputs": [],
   "source": [
    "!python -m nb_conda_kernels list"
   ]
  },
  {
   "cell_type": "markdown",
   "id": "4135a652-c7b9-4244-8178-2e1ed596dc83",
   "metadata": {},
   "source": [
    "Its important to note that the nb_conda_kernels command will list jupyter kernels and conda environments but that does not mean the kernelspec command will do the same (it only lists kernels). This is because the conda environments must be in a shared file location that jupyter will identify as kernels. \n",
    "\n",
    "\n",
    "nb_conda_kernels uses tools such as nbconvert, voila, papermill, etc. that make this happen but before that we need to add a jupyter_config.json file.\n",
    "\n",
    "This file will configure the kernelspec_path (path where they look for kernels) to tell the nb_conda_kernel tools to add dynamically the conda environment to the kernel list as the 'user' level."
   ]
  },
  {
   "cell_type": "markdown",
   "id": "bc900c32-4a58-4c00-855b-4c2cc9fd38c5",
   "metadata": {},
   "source": [
    "To get started we'll first create a __jupyter_config.json__ file within the __.jupyter__ directory.\n",
    "\n",
    "You can find the path to the .jupyter directory by running:"
   ]
  },
  {
   "cell_type": "code",
   "execution_count": null,
   "id": "ea488951-77f5-4831-af5d-038bc8e74ab4",
   "metadata": {},
   "outputs": [],
   "source": [
    "!jupyter --config-dir"
   ]
  },
  {
   "cell_type": "markdown",
   "id": "b0a76d99-f4c9-45e9-aae2-b373d5a214a4",
   "metadata": {},
   "source": [
    "In your terminal you can enter the following command to create the jupyter_config.json directly in the correct directory:"
   ]
  },
  {
   "cell_type": "markdown",
   "id": "5a1ce22a-6461-4b6b-ac13-ffe5cc6ee94a",
   "metadata": {},
   "source": [
    "```\n",
    "nano /home/jupyter/.jupyter/jupyter_config.json\n",
    "\n",
    "```"
   ]
  },
  {
   "cell_type": "markdown",
   "id": "46b2d560-38ca-40f4-85d4-7054ce7fc55f",
   "metadata": {},
   "source": [
    "enter this script exactly into jupyter_config.json\n",
    "```\n",
    "{\n",
    "  \"CondaKernelSpecManager\": {\n",
    "    \"kernelspec_path\": \"--user\"\n",
    "  }\n",
    "}\n",
    "```\n",
    "Once thats done save your changes and exit nano. To exit do the following:\n",
    "- Press __Ctrl + X__\n",
    "- Type __Y__\n",
    "- Press __Enter__\n"
   ]
  },
  {
   "cell_type": "markdown",
   "id": "e413e415-a767-44a0-8eeb-bdd51453ca5b",
   "metadata": {},
   "source": [
    "Now you can run nb_conda_kernels command to jumpstart the process and run kernelspecs to confirm that the conda base environment is a jupyter kernel"
   ]
  },
  {
   "cell_type": "code",
   "execution_count": null,
   "id": "e1ee6dd7-d44b-49c2-9621-682c22cfc35d",
   "metadata": {},
   "outputs": [],
   "source": [
    "!python -m nb_conda_kernels list"
   ]
  },
  {
   "cell_type": "code",
   "execution_count": null,
   "id": "071c0a7a-750e-4848-9cb6-31dfd513977a",
   "metadata": {},
   "outputs": [],
   "source": [
    "!jupyter kernelspec list"
   ]
  },
  {
   "cell_type": "markdown",
   "id": "5beef786-344e-40b4-8853-7c19bc2316f4",
   "metadata": {},
   "source": [
    "You should see that nb_conda_kernels has found 1 kernel and that kernelspecs now lists the conda-root-py environment"
   ]
  },
  {
   "cell_type": "markdown",
   "id": "fdd9fb8a-baec-4369-9092-5f7e194b82ed",
   "metadata": {},
   "source": [
    "__Warning: Give it about 2-5 minutes before you switch your jupyter kernel to give your system time to show your conda environments as kernels.__\n",
    "\n",
    "### Switch Your Kernel\n",
    "\n",
    "You can then switch your kernel by clicking the __python 3__ kernel located in the top right hand corner, click the dropdown menu, then select your kernel and click __Select__.\n",
    "\n",
    "Another way to view your kernels is by clicking New Launcher located in the left side of your screen (the blue rectangle)."
   ]
  },
  {
   "cell_type": "markdown",
   "id": "293f69c9-b2d4-41d6-b9e5-429db09c3c55",
   "metadata": {},
   "source": [
    "### Create a conda environment"
   ]
  },
  {
   "cell_type": "markdown",
   "id": "59edf6ca-9e55-46c4-a557-b01d4b90cf76",
   "metadata": {},
   "source": [
    "For every conda env make sure you either:\n",
    "\n",
    "- Install pip, then install jupterlab through pip seen in example A\n",
    "\n",
    "or \n",
    "- Install ipykernel as an alternative seen in example B\n",
    "\n",
    "In the example below we are using a environment yaml file which makes is easier to install multiple dependencies at once. The following file will list:\n",
    "\n",
    "- name: The name of you environment\n",
    "- channels: channels such as bioconda, conda-forge, etc. that are required to install your dependencies\n",
    "- dependencies: tool that you wish to install such as python, pandas, fastqc, etc. "
   ]
  },
  {
   "cell_type": "markdown",
   "id": "563a46ab-80ba-4b5e-babe-e064f2daff0f",
   "metadata": {},
   "source": [
    "__env.yml file EXAMPLES__\n",
    "\n",
    "\n",
    "__A__\n",
    "```\n",
    "name: sample3\n",
    "channels:\n",
    "- bioconda\n",
    "dependencies:\n",
    "- python= 3.9\n",
    "- pip\n",
    "- pip:\n",
    "  # works for regular pip packages\n",
    "  - jupyterlab\n",
    "- fastqc\n",
    "```\n",
    "__B__\n",
    "```\n",
    "name: sample4\n",
    "channels:\n",
    "- bioconda\n",
    "dependencies:\n",
    "- python= 3.9\n",
    "- ipykernel\n",
    "- fastqc\n",
    "```"
   ]
  },
  {
   "cell_type": "markdown",
   "id": "f303ef8e-96ba-47b9-a6bc-b47dd447b870",
   "metadata": {},
   "source": [
    "For our example we will create a yaml file named env.yml and enter in the information written in example __B__"
   ]
  },
  {
   "cell_type": "markdown",
   "id": "d8facdbc-426a-4a72-a76b-236b732c207b",
   "metadata": {},
   "source": [
    "Then create your conda environment!"
   ]
  },
  {
   "cell_type": "code",
   "execution_count": null,
   "id": "90aa282e-3eb8-41dc-a35b-6bafb3a924bb",
   "metadata": {},
   "outputs": [],
   "source": [
    "conda env create --file env.yml"
   ]
  },
  {
   "cell_type": "markdown",
   "id": "27e86b3b-dbd3-4ee1-bd96-8c89e1149020",
   "metadata": {},
   "source": [
    "You can run nb_conda_kernel list again to jumpstart the jupyter kernel process"
   ]
  },
  {
   "cell_type": "code",
   "execution_count": null,
   "id": "0e6f58d4-3733-475c-8b51-4ca4251b60a3",
   "metadata": {},
   "outputs": [],
   "source": [
    "!python -m nb_conda_kernels list"
   ]
  },
  {
   "cell_type": "markdown",
   "id": "82bd1094-8d56-4c34-8489-fd5a2fbcb36c",
   "metadata": {},
   "source": [
    "Now check that your conda environment is a jupyter kernel"
   ]
  },
  {
   "cell_type": "code",
   "execution_count": null,
   "id": "49db325a-3782-4219-8e26-e04c0f5cfdb7",
   "metadata": {},
   "outputs": [],
   "source": [
    "!jupyter kernelspec list"
   ]
  },
  {
   "cell_type": "markdown",
   "id": "8f65a3dd-2c28-4c13-8a6e-6cdb6d3d9257",
   "metadata": {},
   "source": [
    "You should see our conda environment named sample4 but written as __conda-env-sample4-py__"
   ]
  },
  {
   "cell_type": "markdown",
   "id": "140b0a44-0dd5-45c7-aad9-6519c5423792",
   "metadata": {},
   "source": [
    "### Using Mamba"
   ]
  },
  {
   "cell_type": "markdown",
   "id": "5c1e6c27-e29d-4604-b8c4-3e206f681c70",
   "metadata": {},
   "source": [
    "Mamba is conda but faster you can utilize it by installing it into the conda base"
   ]
  },
  {
   "cell_type": "code",
   "execution_count": null,
   "id": "4600ce3c-3b75-4f3f-aa0e-f51a9da21abe",
   "metadata": {},
   "outputs": [],
   "source": [
    "!conda install mamba -n base -c conda-forge"
   ]
  },
  {
   "cell_type": "markdown",
   "id": "8f730efc-4e0e-43fa-89c9-b466d80dc805",
   "metadata": {},
   "source": [
    "The only difference will be the speed and also the commands will be 'mamba' not \n",
    "'conda'"
   ]
  },
  {
   "cell_type": "code",
   "execution_count": null,
   "id": "055fef60-b0dc-42c4-a210-afe81de98c7a",
   "metadata": {},
   "outputs": [],
   "source": [
    "!mamba env create -f env.yml"
   ]
  }
 ],
 "metadata": {},
 "nbformat": 4,
 "nbformat_minor": 5
}
