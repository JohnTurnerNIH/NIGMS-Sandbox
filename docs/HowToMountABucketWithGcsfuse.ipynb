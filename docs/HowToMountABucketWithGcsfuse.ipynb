{
 "cells": [
  {
   "cell_type": "markdown",
   "id": "eea82631-134c-4bb1-bc62-0d7228b8371d",
   "metadata": {},
   "source": [
    "### How to mount bucket contents to a notebook with gcsfuse"
   ]
  },
  {
   "cell_type": "code",
   "execution_count": null,
   "id": "1eb9b734-f956-424d-9b7a-240f7075aa49",
   "metadata": {},
   "outputs": [],
   "source": [
    "# Pre-check steps: check account and project\n",
    "!gcloud config list\n",
    "\n",
    "##go to cloud storage from google cloud console find your bucket \n",
    "#click on permissions and make sure under principal the account listed above has the storage admin role\n",
    "#if not add the principal and storage admin role to the bucket permissions\n"
   ]
  },
  {
   "cell_type": "code",
   "execution_count": null,
   "id": "5310328f-53ef-430c-92b3-86a7fec33149",
   "metadata": {},
   "outputs": [],
   "source": [
    "#afterwards check permission with the following command(replace with your bucket name)\n",
    "#If you can't list the contents..add the compute engine service account to your bucket permissions..or whichever account listed in the above command\n",
    "!gsutil ls gs://test_user_managed_gcsfuse"
   ]
  },
  {
   "cell_type": "code",
   "execution_count": null,
   "id": "aa57c680-d4af-4688-8c1a-a6d613e7f8ce",
   "metadata": {},
   "outputs": [],
   "source": [
    "#make the mount folder locally in the notebook\n",
    "!mkdir /home/jupyter/gcs"
   ]
  },
  {
   "cell_type": "code",
   "execution_count": null,
   "id": "12b590c0-c77e-4c47-ba02-2ff912b91059",
   "metadata": {},
   "outputs": [],
   "source": [
    "#mount the bucket contents to the folder above(replace with your bucket name)\n",
    "!gcsfuse test_user_managed_gcsfuse /home/jupyter/gcs"
   ]
  },
  {
   "cell_type": "code",
   "execution_count": null,
   "id": "026f4f16-5cc8-4656-a637-523e83a80661",
   "metadata": {},
   "outputs": [],
   "source": [
    "#list files with terminal\n",
    "!ls /home/jupyter/gcs"
   ]
  },
  {
   "cell_type": "code",
   "execution_count": null,
   "id": "90101b0e-08f6-4672-97fb-08d9d6eaf714",
   "metadata": {},
   "outputs": [],
   "source": [
    "#interact with file with terminal\n",
    "!head /home/jupyter/gcs/us-states.txt"
   ]
  },
  {
   "cell_type": "code",
   "execution_count": null,
   "id": "5fbb978e-9ab7-4383-925c-182d23dceb2b",
   "metadata": {},
   "outputs": [],
   "source": [
    "#list and interact with bucket contents with python in python notebook\n",
    "import os\n",
    "\n",
    "os.getcwd()\n"
   ]
  },
  {
   "cell_type": "code",
   "execution_count": null,
   "id": "bd1c9077-c393-4338-ab62-190f74ac9d89",
   "metadata": {},
   "outputs": [],
   "source": [
    "os.chdir('/home/jupyter/gcs')"
   ]
  },
  {
   "cell_type": "code",
   "execution_count": null,
   "id": "874e7100-cc3f-42cd-8311-4f4ce89791cd",
   "metadata": {},
   "outputs": [],
   "source": [
    "os.getcwd()"
   ]
  },
  {
   "cell_type": "code",
   "execution_count": null,
   "id": "b0dc1d68-d2e5-4a39-859a-a1a470e627fc",
   "metadata": {},
   "outputs": [],
   "source": [
    "os.listdir()"
   ]
  }
 ],
 "metadata": {},
 "nbformat": 4,
 "nbformat_minor": 5
}
